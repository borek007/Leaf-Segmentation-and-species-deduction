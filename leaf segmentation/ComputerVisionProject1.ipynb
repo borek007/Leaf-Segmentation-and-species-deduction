{
 "cells": [
  {
   "cell_type": "markdown",
   "id": "dcddc4bc",
   "metadata": {},
   "source": [
    "Leaf Sgmentation Project "
   ]
  },
  {
   "cell_type": "code",
   "execution_count": 286,
   "id": "ec434d85",
   "metadata": {},
   "outputs": [],
   "source": [
    "import numpy as np\n",
    "import cv2 as cv\n",
    "import os\n",
    "from matplotlib import pyplot as plt\n",
    "import skimage\n",
    "from skimage.filters import threshold_otsu\n",
    "from skimage.measure import label, regionprops, regionprops_table\n",
    "\n",
    "\n"
   ]
  },
  {
   "cell_type": "markdown",
   "id": "1781533a",
   "metadata": {},
   "source": [
    "Segmenting function's implementation"
   ]
  },
  {
   "cell_type": "markdown",
   "id": "6b443c73",
   "metadata": {},
   "source": [
    "Function for detecting needle leaves"
   ]
  },
  {
   "cell_type": "code",
   "execution_count": 287,
   "id": "62d62518",
   "metadata": {},
   "outputs": [],
   "source": [
    "def conifer_deduction(path):\n",
    "    img=cv.imread(path)\n",
    "    seg=threshold_otsu(path)\n",
    "    label_img, num_of_labels = label(seg,return_num=True)\n",
    "    df = pd.DataFrame( regionprops_table(label_img,img,properties=\n",
    "                                        [\n",
    "                                        'major_axis_length', \n",
    "                                        'minor_axis_length']))\n",
    "    \n",
    "    df2['axis_ratio']=df2['major_axis_length']/df2['minor_axis_length']\n",
    "    return df2['axis_ratio'].max()>2\n",
    "    \n",
    "    \n",
    "    "
   ]
  },
  {
   "cell_type": "markdown",
   "id": "f54a8af0",
   "metadata": {},
   "source": [
    "Canny edge segmentations algorithms variants"
   ]
  },
  {
   "cell_type": "code",
   "execution_count": 288,
   "id": "d71691eb",
   "metadata": {},
   "outputs": [],
   "source": [
    "def fill_edges(thresh):\n",
    "    h, w = thresh.shape[:2]\n",
    "    im_flood_fill=thresh.copy()\n",
    "    mask = np.zeros((h+2, w+2), np.uint8)\n",
    "    if im_flood_fill[1,1] == True:\n",
    "        im_flood_fill =cv.bitwise_not(im_flood_fill)\n",
    "    cv.floodFill(im_flood_fill,mask,(1,1),255)\n",
    "    return im_flood_fill"
   ]
  },
  {
   "cell_type": "code",
   "execution_count": 289,
   "id": "26f27743",
   "metadata": {},
   "outputs": [],
   "source": [
    "def canny_segmentation(path):\n",
    "    img=cv.imread(path,0)\n",
    "    edges=cv.Canny(img,100,200)\n",
    "    rect=cv.getStructuringElement(cv.MORPH_RECT, (3, 3))\n",
    "    dilation = cv.dilate(edges,rect,iterations = 2)\n",
    "    erosion = cv.erode(dilation, rect, iterations=1)\n",
    "    filled=fill_edges(erosion)\n",
    "    filled=cv.bitwise_not(filled)\n",
    "    return filled\n",
    "   \n",
    "    \n"
   ]
  },
  {
   "cell_type": "code",
   "execution_count": 290,
   "id": "f1dc55b3",
   "metadata": {},
   "outputs": [],
   "source": [
    "def canny_with_sharpening(path):\n",
    "    img=cv.imread(path,0)\n",
    "    kernel = np.array([[-1,-1,-1], [-1,9,-1], [-1,-1,-1]])\n",
    "    img = cv.filter2D(img, -1, kernel)\n",
    "    edges=cv.Canny(img,100,200)\n",
    "    rect=cv.getStructuringElement(cv.MORPH_RECT, (3, 3))\n",
    "    dilation = cv.dilate(edges,rect,iterations = 2)\n",
    "    erosion = cv.erode(dilation, rect, iterations=1)\n",
    "    filled=fill_edges(erosion)\n",
    "    filled=cv.bitwise_not(filled)\n",
    "    return filled"
   ]
  },
  {
   "cell_type": "code",
   "execution_count": 291,
   "id": "e6109c02",
   "metadata": {},
   "outputs": [],
   "source": [
    "def unsharp_mask(image, kernel_size=(5, 5), sigma=1.0, amount=1.0, threshold=0):\n",
    "    blurred = cv.GaussianBlur(image, kernel_size, sigma)\n",
    "    sharpened = float(amount + 1) * image - float(amount) * blurred\n",
    "    sharpened = np.maximum(sharpened, np.zeros(sharpened.shape))\n",
    "    sharpened = np.minimum(sharpened, 255 * np.ones(sharpened.shape))\n",
    "    sharpened = sharpened.round().astype(np.uint8)\n",
    "    if threshold > 0:\n",
    "        low_contrast_mask = np.absolute(image - blurred) < threshold\n",
    "        np.copyto(sharpened, image, where=low_contrast_mask)\n",
    "    return sharpened\n",
    "\n",
    "\n",
    "def canny_with_unsharpening(path):\n",
    "    img=cv.imread(path,0)\n",
    "    img=unsharp_mask(img)\n",
    "    edges=cv.Canny(img,100,200)\n",
    "    rect=cv.getStructuringElement(cv.MORPH_RECT, (3, 3))\n",
    "    dilation = cv.dilate(edges,rect,iterations = 2)\n",
    "    erosion = cv.erode(dilation, rect, iterations=1)\n",
    "    filled=fill_edges(erosion)\n",
    "    filled=cv.bitwise_not(filled)\n",
    "    return filled"
   ]
  },
  {
   "cell_type": "markdown",
   "id": "3d2548f2",
   "metadata": {},
   "source": [
    "Otsu segmentation implementation"
   ]
  },
  {
   "cell_type": "code",
   "execution_count": 292,
   "id": "a2e08c34",
   "metadata": {},
   "outputs": [],
   "source": [
    "def otsu_segmentation(path):\n",
    "    img=cv.imread(path,0)\n",
    "    img = cv.GaussianBlur(img,(5,5),0)\n",
    "    ret1,th1=cv.threshold(img,0,255,cv.THRESH_BINARY+cv.THRESH_OTSU)\n",
    "    if(conifer_deduction==False):\n",
    "        rect=cv.getStructuringElement(cv.MORPH_RECT, (3, 3))\n",
    "        dilation = cv.dilate(th1,rect,iterations = 2)\n",
    "        erosion = cv.erode(dilation, rect, iterations=1)\n",
    "        th1=cv.bitwise_not(th1)\n",
    "        th1=cv.medianBlur(th1,9)\n",
    "    else:\n",
    "        th1=cv.bitwise_not(th1)\n",
    "    return th1"
   ]
  },
  {
   "cell_type": "markdown",
   "id": "419a4ec8",
   "metadata": {},
   "source": [
    "Binary segmentation implementation"
   ]
  },
  {
   "cell_type": "code",
   "execution_count": 293,
   "id": "292f9707",
   "metadata": {},
   "outputs": [],
   "source": [
    "def binary_segmentation(path):\n",
    "    img=cv.imread(path,0)\n",
    "    img = cv.GaussianBlur(img,(5,5),0)\n",
    "    ret1,th1=cv.threshold(img,127,255,cv.THRESH_BINARY)\n",
    "    if(conifer_deduction==False):\n",
    "        th1=cv.bitwise_not(th1)\n",
    "        th1=cv.medianBlur(img,3)\n",
    "        rect=cv.getStructuringElement(cv.MORPH_RECT, (10, 10))\n",
    "        dilation = cv.dilate(th1,rect,iterations = 2)\n",
    "        erosion = cv.erode(dilation, rect, iterations=1)\n",
    "        ret1,erosion=cv.threshold(erosion,127,255,cv.THRESH_BINARY)\n",
    "        erosion=cv.bitwise_not(erosion)\n",
    "        return erosion\n",
    "    return cv.bitwise_not(th1)\n",
    "    "
   ]
  },
  {
   "cell_type": "markdown",
   "id": "dc2f0516",
   "metadata": {},
   "source": [
    "Function to asses segmentation corectness"
   ]
  },
  {
   "cell_type": "code",
   "execution_count": 294,
   "id": "f3ee3cb6",
   "metadata": {},
   "outputs": [],
   "source": [
    "import re \n",
    "def findbackground(path):\n",
    "    return re.sub(r'color_images','ground_truth',path)\n",
    "\n",
    "def Dice(segmentation,ground):\n",
    "    \n",
    "    \n",
    "    intersection=cv.bitwise_and(segmentation,ground)\n",
    "    intersection=np.count_nonzero(intersection>0)\n",
    "    A=np.count_nonzero(segmentation>0)\n",
    "    B=np.count_nonzero(ground>0)\n",
    "    return 2 * intersection /(A+B)\n",
    "\n",
    "def IntersectionOverUnion(segmentation,ground):\n",
    "   \n",
    "    \n",
    "    intersection=cv.bitwise_and(segmentation,ground)\n",
    "    intersection=np.count_nonzero(intersection>0)\n",
    "    image_union=cv.bitwise_or(segmentation,ground)\n",
    "    image_union=np.count_nonzero(image_union>0)\n",
    "    return intersection/image_union\n",
    "\n",
    "\n",
    "    \n",
    "    \n",
    "\n",
    "\n",
    "def compare_segmentations(path):\n",
    "    background=findbackground(path)\n",
    "    background=cv.imread(background,0)\n",
    "    otsu=otsu_segmentation(path)\n",
    "    canny=canny_segmentation(path)\n",
    "    binary=binary_segmentation(path)\n",
    "    canny_sharpened=canny_with_sharpening(path)\n",
    "    canny_unsharpened = canny_with_unsharpening(path)\n",
    "    return path, IntersectionOverUnion(binary,background),Dice(binary,background), IntersectionOverUnion(otsu,background),Dice(otsu,background), IntersectionOverUnion(canny,background),Dice(canny,background), IntersectionOverUnion(canny_sharpened,background),Dice(canny_sharpened,background),IntersectionOverUnion(canny_unsharpened,background),Dice(canny_unsharpened,background)\n",
    "\n",
    "\n",
    "\n",
    "\n",
    "\n",
    "\n"
   ]
  },
  {
   "cell_type": "markdown",
   "id": "3fe6b477",
   "metadata": {},
   "source": [
    "browsing all files over given dataset"
   ]
  },
  {
   "cell_type": "code",
   "execution_count": 295,
   "id": "8f9198d5",
   "metadata": {},
   "outputs": [],
   "source": [
    "import glob\n",
    "import os\n",
    "import pandas as pd\n",
    "# df = pd.DataFrame(columns=['path','Intersection over Union binary','Dice binary','Intersection over Union otsu','Dice otsu','Intersection over Union canny','Dice canny'])\n",
    "columns=['path','Intersection_over_Union binary','Dice_binary','Intersection_over_Union_otsu','Dice_otsu','Intersection_over_Union_canny','Dice_canny','Intersection_over_Union_canny_sharpened','Dice_canny_sharpened','Intersection_over_Union_canny_unsharpened','Dice_canny_unsharpened']\n",
    "\n",
    "\n",
    "files1 = glob.glob(os.path.join('leaf_dataset','leaves_testing_set_1','color_images','*.png'))\n",
    "\n",
    "\n",
    "lst = []\n",
    "for file in files1:\n",
    "   path,Ibinary,Dbinary,Iotsu,Dotsu,ICanny,Dcanny,Icannysharpened,Dcannysharpened,Icannyunsharpened,Dcannyunsharpened = compare_segmentations(file)\n",
    "   lst.append([path,Ibinary,Dbinary,Iotsu,Dotsu,ICanny,Dcanny,Icannysharpened,Dcannysharpened,Icannyunsharpened,Dcannyunsharpened])\n",
    "\n",
    "df1=pd.DataFrame(columns=columns,data=lst)\n",
    "\n",
    "files2=glob.glob(os.path.join('leaf_dataset','leaves_testing_set_2','color_images','*.png'))\n",
    "\n",
    "lst = []\n",
    "for file in files2:\n",
    "   path,Ibinary,Dbinary,Iotsu,Dotsu,ICanny,Dcanny,Icannysharpened,Dcannysharpened,Icannyunsharpened,Dcannyunsharpened = compare_segmentations(file)\n",
    "   lst.append([path,Ibinary,Dbinary,Iotsu,Dotsu,ICanny,Dcanny,Icannysharpened,Dcannysharpened,Icannyunsharpened,Dcannyunsharpened])\n",
    "  \n",
    "df2=pd.DataFrame(columns=columns,data=lst)\n"
   ]
  },
  {
   "cell_type": "markdown",
   "id": "3c68fd58",
   "metadata": {},
   "source": [
    "Summaries of segmentations reports"
   ]
  },
  {
   "cell_type": "code",
   "execution_count": 296,
   "id": "61546c60",
   "metadata": {},
   "outputs": [],
   "source": [
    "df1.drop(['Intersection_over_Union_canny','Dice_canny','Intersection_over_Union_canny_sharpened','Dice_canny_sharpened'],inplace=True,axis=1)\n",
    "df1.describe().to_csv('dataset1_describe.csv')\n",
    "df1.describe()\n",
    "dh1=df1.describe()\n"
   ]
  },
  {
   "cell_type": "code",
   "execution_count": 297,
   "id": "4072ea40",
   "metadata": {},
   "outputs": [],
   "source": [
    "df2.drop(['Intersection_over_Union_canny','Dice_canny','Intersection_over_Union_canny_sharpened','Dice_canny_sharpened'],inplace=True,axis=1)\n",
    "df2.describe().to_csv('dataset2_describe.csv')\n",
    "df2.describe()\n",
    "dh2=df2.describe()"
   ]
  },
  {
   "cell_type": "code",
   "execution_count": 298,
   "id": "173f8e3b",
   "metadata": {},
   "outputs": [],
   "source": [
    "df3 =df2.append(df1)\n",
    "# df3.describe().tocsv('dataset_merged_describe.csv')\n",
    "# df3.drop(['Intersection_over_Union_canny','Dice_canny','Intersection_over_Union_canny_sharpened','Dice_canny_sharpened'],inplace=True,axis=1)\n",
    "df3.describe()\n",
    "dh3=df3.describe()"
   ]
  },
  {
   "cell_type": "code",
   "execution_count": 299,
   "id": "f62bd760",
   "metadata": {},
   "outputs": [
    {
     "data": {
      "text/plain": [
       "<AxesSubplot:ylabel='Frequency'>"
      ]
     },
     "execution_count": 299,
     "metadata": {},
     "output_type": "execute_result"
    },
    {
     "data": {
      "image/png": "[encoded data removed]",
      "text/plain": [
       "<Figure size 432x288 with 1 Axes>"
      ]
     },
     "metadata": {
      "needs_background": "light"
     },
     "output_type": "display_data"
    }
   ],
   "source": [
    "df1.drop(['Dice_binary','Dice_otsu','Dice_canny_unsharpened' ],inplace=True,axis=1)\n",
    "df1.plot.hist(alpha=0.3)"
   ]
  },
  {
   "cell_type": "code",
   "execution_count": 300,
   "id": "dea7a2b6",
   "metadata": {},
   "outputs": [
    {
     "data": {
      "text/plain": [
       "<AxesSubplot:ylabel='Frequency'>"
      ]
     },
     "execution_count": 300,
     "metadata": {},
     "output_type": "execute_result"
    },
    {
     "data": {
      "image/png": "[encoded data removed]",
      "text/plain": [
       "<Figure size 432x288 with 1 Axes>"
      ]
     },
     "metadata": {
      "needs_background": "light"
     },
     "output_type": "display_data"
    }
   ],
   "source": [
    "df2.drop(['Dice_binary','Dice_otsu','Dice_canny_unsharpened'],inplace=True,axis=1)\n",
    "df2.plot.hist(alpha=0.3)"
   ]
  },
  {
   "cell_type": "code",
   "execution_count": 301,
   "id": "fce3c6d2",
   "metadata": {},
   "outputs": [
    {
     "data": {
      "text/plain": [
       "<AxesSubplot:ylabel='Frequency'>"
      ]
     },
     "execution_count": 301,
     "metadata": {},
     "output_type": "execute_result"
    },
    {
     "data": {
      "image/png": "[encoded data removed]",
      "text/plain": [
       "<Figure size 432x288 with 1 Axes>"
      ]
     },
     "metadata": {
      "needs_background": "light"
     },
     "output_type": "display_data"
    }
   ],
   "source": [
    "df3.drop(['Dice_binary','Dice_otsu','Dice_canny_unsharpened'],inplace=True,axis=1)\n",
    "df3.plot.hist(alpha=0.3)"
   ]
  }
 ],
 "metadata": {
  "kernelspec": {
   "display_name": "Python 3",
   "language": "python",
   "name": "python3"
  },
  "language_info": {
   "codemirror_mode": {
    "name": "ipython",
    "version": 3
   },
   "file_extension": ".py",
   "mimetype": "text/x-python",
   "name": "python",
   "nbconvert_exporter": "python",
   "pygments_lexer": "ipython3",
   "version": "3.9.5"
  }
 },
 "nbformat": 4,
 "nbformat_minor": 5
}
