{
 "cells": [
  {
   "cell_type": "code",
   "execution_count": 4,
   "metadata": {},
   "outputs": [],
   "source": [
    "import numpy as np\n",
    "import pandas as pd\n",
    "import seaborn as sns\n",
    "import matplotlib.pyplot as plt\n",
    "import cv2 as cv\n",
    "from skimage.measure import label, regionprops, regionprops_table\n",
    "from skimage.feature.texture import local_binary_pattern\n",
    "from sklearn.ensemble import GradientBoostingClassifier, RandomForestClassifier\n",
    "from sklearn.metrics import classification_report\n"
   ]
  },
  {
   "cell_type": "markdown",
   "metadata": {},
   "source": [
    "leaf segmentation"
   ]
  },
  {
   "cell_type": "code",
   "execution_count": 5,
   "metadata": {},
   "outputs": [],
   "source": [
    "def otsu_segmentation(path):\n",
    "    img=cv.imread(path,0)\n",
    "    img = cv.GaussianBlur(img,(5,5),0)\n",
    "    ret1,th1=cv.threshold(img,128,255,cv.THRESH_BINARY+cv.THRESH_OTSU)\n",
    "    rect=cv.getStructuringElement(cv.MORPH_RECT, (3, 3))\n",
    "    dilation = cv.dilate(th1,rect,iterations = 2)\n",
    "    erosion = cv.erode(dilation, rect, iterations=1)\n",
    "    th1=cv.bitwise_not(th1)\n",
    "    th1=cv.medianBlur(th1,9)\n",
    "    return th1\n",
    "\n",
    "\n",
    "#getting rid of color correction card \n",
    "def segmentation(path):\n",
    "    image = otsu_segmentation(path)\n",
    "    h, w = image.shape\n",
    "    mask= np.ones((h,w),np.uint8)\n",
    "    mask[:,int(0.8*w):w]=0\n",
    "    mask[int(h*0.9):h,:]=0\n",
    "\n",
    "\n",
    "    image=cv.bitwise_and(image,image,mask=mask)\n",
    "\n",
    " \n",
    "   \n",
    "    return image\n",
    "\n",
    "\n",
    "    \n",
    "\n",
    "    \n",
    "\n"
   ]
  },
  {
   "cell_type": "markdown",
   "metadata": {},
   "source": [
    "chosing and creating features"
   ]
  },
  {
   "cell_type": "code",
   "execution_count": 6,
   "metadata": {},
   "outputs": [],
   "source": [
    "def create_features(path,name):\n",
    "    img=cv.imread(path)\n",
    "    seg=segmentation(path)\n",
    "    label_img, num_of_labels = label(seg,return_num=True)\n",
    "    df = pd.DataFrame( regionprops_table(label_img,img,properties=\n",
    "                                        ['convex_area', 'area',\n",
    "                                        'eccentricity', 'extent',                   \n",
    "                                        'inertia_tensor',\n",
    "                                        'major_axis_length', \n",
    "                                        'minor_axis_length']))\n",
    "    df2=df.mean(axis=0)\n",
    "    df2['path']=path\n",
    "    df2['species']=name\n",
    "    df2['convex_ratio']=df2['area']/df2['convex_area']\n",
    "    df2['axis_ratio']=df2['major_axis_length']/df2['minor_axis_length']\n",
    "    df2['num_of_labels']=num_of_labels\n",
    "    img=cv.bitwise_and(img,img,mask=seg)\n",
    "    # df2['lbp']=local_binary_pattern(img,3,method='uniform')\n",
    "\n",
    "\n",
    "    return df2"
   ]
  },
  {
   "cell_type": "markdown",
   "metadata": {},
   "source": [
    "Creating df with all photos of chosen species"
   ]
  },
  {
   "cell_type": "code",
   "execution_count": 7,
   "metadata": {
    "collapsed": false,
    "pycharm": {
     "name": "#%%\n"
    }
   },
   "outputs": [],
   "source": [
    "df =pd.read_csv('leafsnap-dataset-images.txt', sep='\\t')\n",
    "species = ['Aesculus hippocastamon', 'Albizia julibrissin' ,'Celtis occidentalis', 'Fagus grandifolia', 'Magnolia stellata', 'Malus baccata', 'Malus pumila', 'Taxodium distichum', 'Tilia americana', 'Tilia europaea']\n",
    "df.query('source ==\"lab\"',inplace=True)\n",
    "df.query('species == @species',inplace=True)"
   ]
  },
  {
   "cell_type": "markdown",
   "metadata": {},
   "source": [
    "Uncomment if you want to see examples of chosen species"
   ]
  },
  {
   "cell_type": "code",
   "execution_count": 8,
   "metadata": {},
   "outputs": [],
   "source": [
    "# df4 =pd.read_csv('leafsnap-dataset-images.txt', sep='\\t')\n",
    "# # species=species+[]\n",
    "# df4.query('source ==\"lab\"',inplace=True)\n",
    "# df4=df4.drop_duplicates(subset=['species'],keep='last')\n",
    "# df4.query('species == @species',inplace=True)\n",
    "\n",
    "# for index ,row in df4.iterrows():\n",
    "#     cv.imshow(row['species'],cv.imread(row['image_path']))\n",
    "# cv.waitKey(0)\n",
    "# cv.destroyAllWindows()"
   ]
  },
  {
   "cell_type": "markdown",
   "metadata": {},
   "source": [
    "creating df with features of leaves"
   ]
  },
  {
   "cell_type": "code",
   "execution_count": 9,
   "metadata": {},
   "outputs": [],
   "source": [
    "dfs=[]\n",
    "for index, row in df.iterrows():\n",
    "    dfs.append(create_features(row['image_path'],row['species']))\n",
    "\n",
    "dfs=pd.DataFrame(dfs)\n",
    "\n"
   ]
  },
  {
   "cell_type": "markdown",
   "metadata": {},
   "source": [
    "Data preparation"
   ]
  },
  {
   "cell_type": "code",
   "execution_count": 10,
   "metadata": {},
   "outputs": [],
   "source": [
    "\n",
    "X_test=[]\n",
    "X_train=[]\n",
    "Y_test=[]\n",
    "Y_train=[]\n",
    "\n",
    "for specie in species:\n",
    "    \n",
    "   \n",
    "    df3=dfs.query('species == @specie')\n",
    "    for index, row in df3.iterrows():\n",
    "        # if index ==0:\n",
    "        #     cv.imshow(species[index],row['path'])\n",
    "        if index%5==0:\n",
    "            X_test.append(row)\n",
    "            Y_test.append(row['species'])\n",
    "        else:\n",
    "            X_train.append(row)\n",
    "            Y_train.append(row['species'])\n",
    "        \n",
    "   \n",
    "X_test=pd.DataFrame(X_test)\n",
    "Y_test=pd.DataFrame(Y_test)\n",
    "Y_train=pd.DataFrame(Y_train)\n",
    "X_train=pd.DataFrame(X_train)\n",
    "X_test.drop(['species','path'],axis=1,inplace=True)\n",
    "X_train.drop(['species','path'],axis=1,inplace=True)\n",
    "# cv.waitKey(0)\n",
    "# cv.destroyAllWindows()\n"
   ]
  },
  {
   "cell_type": "markdown",
   "metadata": {},
   "source": [
    "Fitting and predicting Gradient Boosting classifier\n"
   ]
  },
  {
   "cell_type": "code",
   "execution_count": 11,
   "metadata": {},
   "outputs": [
    {
     "name": "stderr",
     "output_type": "stream",
     "text": [
      "C:\\Users\\dbork\\AppData\\Roaming\\Python\\Python39\\site-packages\\sklearn\\ensemble\\_gb.py:494: DataConversionWarning: A column-vector y was passed when a 1d array was expected. Please change the shape of y to (n_samples, ), for example using ravel().\n",
      "  y = column_or_1d(y, warn=True)\n"
     ]
    },
    {
     "name": "stdout",
     "output_type": "stream",
     "text": [
      "                        precision    recall  f1-score   support\n",
      "\n",
      "Aesculus hippocastamon       0.96      1.00      0.98        23\n",
      "   Albizia julibrissin       0.96      0.92      0.94        24\n",
      "   Celtis occidentalis       0.78      0.86      0.82        21\n",
      "     Fagus grandifolia       1.00      0.96      0.98        24\n",
      "     Magnolia stellata       0.75      0.86      0.80        21\n",
      "         Malus baccata       1.00      0.92      0.96        26\n",
      "          Malus pumila       0.79      0.79      0.79        24\n",
      "    Taxodium distichum       1.00      1.00      1.00        23\n",
      "       Tilia americana       0.97      0.90      0.93        31\n",
      "        Tilia europaea       1.00      1.00      1.00        24\n",
      "\n",
      "              accuracy                           0.92       241\n",
      "             macro avg       0.92      0.92      0.92       241\n",
      "          weighted avg       0.93      0.92      0.92       241\n",
      "\n"
     ]
    }
   ],
   "source": [
    "model = GradientBoostingClassifier(random_state=10)\n",
    "model.fit(X_train,Y_train)\n",
    "report=classification_report(model.predict(X_test), Y_test,output_dict=True)\n",
    "df6=pd.DataFrame()\n",
    "\n",
    "\n",
    "\n",
    "\n",
    "df5=pd.DataFrame(report).transpose()\n",
    "df5.to_csv('gradient_booster_report.csv')\n",
    "print(classification_report(model.predict(X_test), Y_test,output_dict=False))"
   ]
  },
  {
   "cell_type": "code",
   "execution_count": 24,
   "metadata": {},
   "outputs": [
    {
     "ename": "AttributeError",
     "evalue": "'DataFrame' object has no attribute 'ravel'",
     "output_type": "error",
     "traceback": [
      "\u001b[1;31m---------------------------------------------------------------------------\u001b[0m",
      "\u001b[1;31mAttributeError\u001b[0m                            Traceback (most recent call last)",
      "\u001b[1;32m~\\AppData\\Local\\Temp/ipykernel_12512/756514094.py\u001b[0m in \u001b[0;36m<module>\u001b[1;34m\u001b[0m\n\u001b[0;32m      2\u001b[0m percentile_list = pd.DataFrame(\n\u001b[0;32m      3\u001b[0m     {'lst1Title': ls,\n\u001b[1;32m----> 4\u001b[1;33m      \u001b[1;34m'lst2Title'\u001b[0m\u001b[1;33m:\u001b[0m \u001b[0mY_test\u001b[0m\u001b[1;33m.\u001b[0m\u001b[0mravel\u001b[0m\u001b[1;33m(\u001b[0m\u001b[1;33m)\u001b[0m\u001b[1;33m\u001b[0m\u001b[1;33m\u001b[0m\u001b[0m\n\u001b[0m\u001b[0;32m      5\u001b[0m     })\n",
      "\u001b[1;32m~\\AppData\\Roaming\\Python\\Python39\\site-packages\\pandas\\core\\generic.py\u001b[0m in \u001b[0;36m__getattr__\u001b[1;34m(self, name)\u001b[0m\n\u001b[0;32m   5485\u001b[0m         ):\n\u001b[0;32m   5486\u001b[0m             \u001b[1;32mreturn\u001b[0m \u001b[0mself\u001b[0m\u001b[1;33m[\u001b[0m\u001b[0mname\u001b[0m\u001b[1;33m]\u001b[0m\u001b[1;33m\u001b[0m\u001b[1;33m\u001b[0m\u001b[0m\n\u001b[1;32m-> 5487\u001b[1;33m         \u001b[1;32mreturn\u001b[0m \u001b[0mobject\u001b[0m\u001b[1;33m.\u001b[0m\u001b[0m__getattribute__\u001b[0m\u001b[1;33m(\u001b[0m\u001b[0mself\u001b[0m\u001b[1;33m,\u001b[0m \u001b[0mname\u001b[0m\u001b[1;33m)\u001b[0m\u001b[1;33m\u001b[0m\u001b[1;33m\u001b[0m\u001b[0m\n\u001b[0m\u001b[0;32m   5488\u001b[0m \u001b[1;33m\u001b[0m\u001b[0m\n\u001b[0;32m   5489\u001b[0m     \u001b[1;32mdef\u001b[0m \u001b[0m__setattr__\u001b[0m\u001b[1;33m(\u001b[0m\u001b[0mself\u001b[0m\u001b[1;33m,\u001b[0m \u001b[0mname\u001b[0m\u001b[1;33m:\u001b[0m \u001b[0mstr\u001b[0m\u001b[1;33m,\u001b[0m \u001b[0mvalue\u001b[0m\u001b[1;33m)\u001b[0m \u001b[1;33m->\u001b[0m \u001b[1;32mNone\u001b[0m\u001b[1;33m:\u001b[0m\u001b[1;33m\u001b[0m\u001b[1;33m\u001b[0m\u001b[0m\n",
      "\u001b[1;31mAttributeError\u001b[0m: 'DataFrame' object has no attribute 'ravel'"
     ]
    }
   ],
   "source": [
    "\n",
    "ls= model.predict(X_test)\n",
    "percentile_list = pd.DataFrame(\n",
    "    {'lst1Title': ls,\n",
    "     'lst2Title': Y_test.ravel()\n",
    "    })"
   ]
  },
  {
   "cell_type": "markdown",
   "metadata": {},
   "source": [
    "Fitting and predicting Random forest classifier"
   ]
  },
  {
   "cell_type": "code",
   "execution_count": 13,
   "metadata": {},
   "outputs": [
    {
     "name": "stderr",
     "output_type": "stream",
     "text": [
      "C:\\Users\\dbork\\AppData\\Local\\Temp/ipykernel_12512/2189393362.py:2: DataConversionWarning: A column-vector y was passed when a 1d array was expected. Please change the shape of y to (n_samples,), for example using ravel().\n",
      "  model.fit(X_train,Y_train)\n"
     ]
    },
    {
     "name": "stdout",
     "output_type": "stream",
     "text": [
      "                        precision    recall  f1-score   support\n",
      "\n",
      "Aesculus hippocastamon       0.92      1.00      0.96        22\n",
      "   Albizia julibrissin       0.96      0.92      0.94        24\n",
      "   Celtis occidentalis       0.78      1.00      0.88        18\n",
      "     Fagus grandifolia       1.00      0.96      0.98        24\n",
      "     Magnolia stellata       0.79      0.90      0.84        21\n",
      "         Malus baccata       1.00      1.00      1.00        24\n",
      "          Malus pumila       0.92      0.85      0.88        26\n",
      "    Taxodium distichum       1.00      0.96      0.98        24\n",
      "       Tilia americana       1.00      0.88      0.94        33\n",
      "        Tilia europaea       1.00      0.96      0.98        25\n",
      "\n",
      "              accuracy                           0.94       241\n",
      "             macro avg       0.94      0.94      0.94       241\n",
      "          weighted avg       0.94      0.94      0.94       241\n",
      "\n"
     ]
    }
   ],
   "source": [
    "model = RandomForestClassifier(random_state=10)\n",
    "model.fit(X_train,Y_train)\n",
    "report=classification_report(model.predict(X_test), Y_test,output_dict=True)\n",
    "\n",
    "\n",
    "\n",
    "df5=pd.DataFrame(report).transpose()\n",
    "df5.to_csv('random_forest_report.csv')\n",
    "print(classification_report(model.predict(X_test), Y_test,output_dict=False))\n",
    "\n"
   ]
  }
 ],
 "metadata": {
  "interpreter": {
   "hash": "6f7c4d44365b28014734406e4d617c1e1f76ea196def854c7b951a230f6e24f1"
  },
  "kernelspec": {
   "display_name": "Python 3.9.5 64-bit",
   "language": "python",
   "name": "python3"
  },
  "language_info": {
   "codemirror_mode": {
    "name": "ipython",
    "version": 3
   },
   "file_extension": ".py",
   "mimetype": "text/x-python",
   "name": "python",
   "nbconvert_exporter": "python",
   "pygments_lexer": "ipython3",
   "version": "3.9.5"
  },
  "orig_nbformat": 4
 },
 "nbformat": 4,
 "nbformat_minor": 2
}
